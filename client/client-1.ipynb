{
 "cells": [
  {
   "cell_type": "code",
   "execution_count": 1,
   "id": "087cdb4e-dfd3-4d18-b9fb-4e4a8f5d7116",
   "metadata": {
    "tags": []
   },
   "outputs": [],
   "source": [
    "from centralized_package.client_centralized import load_data, load_model, train, test"
   ]
  },
  {
   "cell_type": "code",
   "execution_count": 2,
   "id": "1aa35dee-6ac3-4716-a2b6-4b190a4d02f3",
   "metadata": {
    "tags": []
   },
   "outputs": [],
   "source": [
    "import torch\n",
    "from collections import OrderedDict"
   ]
  },
  {
   "cell_type": "code",
   "execution_count": 3,
   "id": "83f87908-0eb6-4c8f-a059-b2cdf5f406dd",
   "metadata": {
    "tags": []
   },
   "outputs": [],
   "source": [
    "import flwr as fl"
   ]
  },
  {
   "cell_type": "code",
   "execution_count": 4,
   "id": "06ee9e41-fed9-46ee-ad9b-cd9fe4a75d9e",
   "metadata": {
    "tags": []
   },
   "outputs": [],
   "source": [
    "def set_parameters(model, parameters):\n",
    "    params_dict = zip(model.state_dict().keys(), parameters)\n",
    "    state_dict = OrderedDict({k: torch.tensor(v) for k, v in params_dict})\n",
    "    model.load_state_dict(state_dict, strict=True)"
   ]
  },
  {
   "cell_type": "code",
   "execution_count": 5,
   "id": "8515bb46-4256-45c2-bb5c-096f33efead6",
   "metadata": {
    "tags": []
   },
   "outputs": [
    {
     "name": "stdout",
     "output_type": "stream",
     "text": [
      "Files already downloaded and verified\n",
      "Files already downloaded and verified\n"
     ]
    }
   ],
   "source": [
    "net = load_model()\n",
    "trainloader, testloader = load_data()"
   ]
  },
  {
   "cell_type": "code",
   "execution_count": 6,
   "id": "23f5d36d-6398-49c1-9e2b-0e6798e3bcf5",
   "metadata": {
    "tags": []
   },
   "outputs": [],
   "source": [
    "class FlowerClient(fl.client.NumPyClient):\n",
    "    \n",
    "    def get_parameters(self, config):\n",
    "        return [val.cpu().numpy() for _, val in net.state_dict().items()]\n",
    "    \n",
    "    def fit(self, parameters, config):\n",
    "        set_parameters(net, parameters)\n",
    "        train(net, trainloader, epochs=1)\n",
    "        return self.get_parameters(config={}), len(trainloader.dataset), {}\n",
    "    \n",
    "    def evaluate(self, parameters, config):\n",
    "        set_parameters(net, parameters)\n",
    "        loss, accuracy = test(net, testloader)\n",
    "        return float(loss), len(trainloader.dataset), {\"accuracy\": float(accuracy)}"
   ]
  },
  {
   "cell_type": "code",
   "execution_count": 7,
   "id": "1f716875-96e3-4ff7-bc53-0e8e3303c76b",
   "metadata": {
    "tags": []
   },
   "outputs": [
    {
     "name": "stderr",
     "output_type": "stream",
     "text": [
      "INFO flwr 2023-11-30 14:13:50,239 | grpc.py:52 | Opened insecure gRPC connection (no certificates were passed)\n",
      "DEBUG flwr 2023-11-30 14:13:50,254 | connection.py:42 | ChannelConnectivity.IDLE\n",
      "DEBUG flwr 2023-11-30 14:13:50,257 | connection.py:42 | ChannelConnectivity.READY\n",
      "DEBUG flwr 2023-11-30 14:16:27,614 | connection.py:141 | gRPC channel closed\n",
      "INFO flwr 2023-11-30 14:16:27,624 | app.py:304 | Disconnect and shut down\n"
     ]
    }
   ],
   "source": [
    "fl.client.start_numpy_client(\n",
    "    server_address=\"127.0.0.1:8080\", \n",
    "    client=FlowerClient()\n",
    ")"
   ]
  },
  {
   "cell_type": "code",
   "execution_count": null,
   "id": "dcacac48-f98d-4375-a93d-be118a57d5e3",
   "metadata": {},
   "outputs": [],
   "source": []
  }
 ],
 "metadata": {
  "kernelspec": {
   "display_name": "conda_pytorch_p310",
   "language": "python",
   "name": "conda_pytorch_p310"
  },
  "language_info": {
   "codemirror_mode": {
    "name": "ipython",
    "version": 3
   },
   "file_extension": ".py",
   "mimetype": "text/x-python",
   "name": "python",
   "nbconvert_exporter": "python",
   "pygments_lexer": "ipython3",
   "version": "3.10.13"
  }
 },
 "nbformat": 4,
 "nbformat_minor": 5
}
