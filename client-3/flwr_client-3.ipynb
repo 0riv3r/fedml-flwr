{
 "cells": [
  {
   "cell_type": "code",
   "execution_count": null,
   "metadata": {
    "colab": {
     "base_uri": "https://localhost:8080/"
    },
    "id": "Wes9Uw047Uyi",
    "outputId": "e4642824-204d-499f-e86e-6b678a5b1aa7",
    "tags": []
   },
   "outputs": [],
   "source": [
    "!pip install flwr"
   ]
  },
  {
   "cell_type": "code",
   "execution_count": null,
   "metadata": {
    "id": "H8lNQX_B_Qr0",
    "tags": []
   },
   "outputs": [],
   "source": [
    "import os\n",
    "import sys\n",
    "import timeit\n",
    "from collections import OrderedDict\n",
    "from typing import Dict, List, Tuple\n",
    "import numpy as np\n",
    "import matplotlib.pyplot as plt\n",
    "\n",
    "from random import random, randint, sample, choice\n",
    "\n",
    "\n",
    "import torch\n",
    "import torch.nn.functional as F\n",
    "from torch import Tensor\n",
    "from torch.utils.data import DataLoader\n",
    "\n",
    "import torchvision\n",
    "import torchvision.transforms as transforms\n",
    "from torchvision.datasets import CIFAR10\n",
    "\n",
    "\n",
    "import flwr as fl\n"
   ]
  },
  {
   "cell_type": "code",
   "execution_count": null,
   "metadata": {
    "id": "5vUSyz8G_T1a",
    "tags": []
   },
   "outputs": [],
   "source": [
    "DEVICE = torch.device(\"cuda:0\" if torch.cuda.is_available() else \"cpu\")\n"
   ]
  },
  {
   "cell_type": "markdown",
   "metadata": {
    "id": "_BHzRkbOHbBy"
   },
   "source": [
    "### Data Creation"
   ]
  },
  {
   "cell_type": "code",
   "execution_count": null,
   "metadata": {
    "colab": {
     "base_uri": "https://localhost:8080/",
     "height": 151,
     "referenced_widgets": [
      "ab09d8331075473d885d8f88a1bdc665",
      "fbc53b22bda640cbb6aafc2ec695dad3",
      "a7b6628b70004759b9be073907ece375",
      "27640ef03d4b4e62af4d973f34e07f2c",
      "cb08a760af394dd8b22ee63c62647a31",
      "3544bbc8d70b475a8cbf8cb4ff9dd375",
      "8d4c3f0b91c544fdb4af828ba6282aaf",
      "7e9d8207371949668dc84369e28f817e"
     ]
    },
    "id": "F9PPd9l7_b7P",
    "outputId": "f0276092-ed5e-4d6a-8873-a6065ef4012d",
    "tags": []
   },
   "outputs": [],
   "source": [
    "PARTY_TYPE = \"Minor\"\n",
    "THRESHOLD = 0.7\n",
    "\n",
    "if random()  > THRESHOLD:\n",
    "    PARTY_TYPE = \"MAJOR\"\n",
    "\n",
    "if PARTY_TYPE == \"MAJOR\":\n",
    "    obs  = randint(10000,15000)\n",
    "else:\n",
    "    obs  = randint(2000,3000)\n",
    "    \n",
    "\n",
    "print (\"Welcome, You are a {ptype} Client. \\nYou have {n_obs} records in your dataset.\".format(ptype = PARTY_TYPE, n_obs=obs))\n",
    "\n",
    "transform = transforms.Compose([transforms.ToTensor(), transforms.Normalize((0.5, 0.5, 0.5), (0.5, 0.5, 0.5))])\n",
    "trainset = sample(list(CIFAR10(\".\", train=True, download=True, transform=transform)),obs)\n",
    "testset = CIFAR10(\".\", train=False, download=True, transform=transform)\n",
    "\n",
    "\n",
    "trainloader = DataLoader(trainset, batch_size=8, shuffle=True)\n",
    "testloader = DataLoader(testset, batch_size=8)"
   ]
  },
  {
   "cell_type": "code",
   "execution_count": null,
   "metadata": {
    "id": "vMmE84Ew_e2I",
    "tags": []
   },
   "outputs": [],
   "source": [
    "classes = ('plane', 'car', 'bird', 'cat',\n",
    "           'deer', 'dog', 'frog', 'horse', 'ship', 'truck')"
   ]
  },
  {
   "cell_type": "code",
   "execution_count": null,
   "metadata": {
    "colab": {
     "base_uri": "https://localhost:8080/",
     "height": 112
    },
    "id": "SOm5GeH1_gpp",
    "outputId": "8045c70b-1a19-45fc-a7d0-f7820526be29",
    "tags": []
   },
   "outputs": [],
   "source": [
    "def imshow(img):\n",
    "    img = img / 2 + 0.5     # unnormalize\n",
    "    npimg = img.numpy()\n",
    "    plt.imshow(np.transpose(npimg, (1, 2, 0)))\n",
    "    plt.show()\n",
    "\n",
    "\n",
    "dataiter = iter(trainloader)\n",
    "#images, labels = dataiter.next() #-- error\n",
    "images, labels = next(dataiter)\n",
    "\n",
    "### show images\n",
    "imshow(torchvision.utils.make_grid(images))\n",
    "### print labels\n",
    "print(' '.join('%5s' % classes[labels[j]] for j in range(8)))"
   ]
  },
  {
   "cell_type": "code",
   "execution_count": null,
   "metadata": {
    "colab": {
     "base_uri": "https://localhost:8080/"
    },
    "id": "C6d59sU7_kHV",
    "outputId": "af3df8c2-ca30-4576-e4c6-3799a1c5a312",
    "tags": []
   },
   "outputs": [],
   "source": [
    "### Class Distribution FOR TRAIN\n",
    "count = {item : 0 for item in classes}\n",
    "for data in iter(trainset):\n",
    "    count[classes[data[1]]] += 1\n",
    "\n",
    "print(count)"
   ]
  },
  {
   "cell_type": "code",
   "execution_count": null,
   "metadata": {
    "id": "O09y7QJ7_m7K",
    "tags": []
   },
   "outputs": [],
   "source": [
    "class Net(torch.nn.Module):\n",
    "\n",
    "    def __init__(self) -> None:\n",
    "        super(Net, self).__init__()\n",
    "        self.conv1 = torch.nn.Conv2d(3, 6, 5)\n",
    "        self.pool = torch.nn.MaxPool2d(2, 2)\n",
    "        self.conv2 = torch.nn.Conv2d(6, 16, 5)\n",
    "        self.fc1 = torch.nn.Linear(16 * 5 * 5, 120)\n",
    "        self.fc2 = torch.nn.Linear(120, 84)\n",
    "        self.fc3 = torch.nn.Linear(84, 10)\n",
    "\n",
    "    ### pylint: disable=arguments-differ,invalid-name\n",
    "    def forward(self, x: Tensor) -> Tensor:\n",
    "        \"\"\"Compute forward pass.\"\"\"\n",
    "        x = self.pool(F.relu(self.conv1(x)))\n",
    "        x = self.pool(F.relu(self.conv2(x)))\n",
    "        x = x.view(-1, 16 * 5 * 5)\n",
    "        x = F.relu(self.fc1(x))\n",
    "        x = F.relu(self.fc2(x))\n",
    "        x = self.fc3(x)\n",
    "        return x"
   ]
  },
  {
   "cell_type": "code",
   "execution_count": null,
   "metadata": {
    "id": "_RygbmHn_pG1",
    "tags": []
   },
   "outputs": [],
   "source": [
    "def train(\n",
    "    net: None,\n",
    "    trainloader: torch.utils.data.DataLoader,\n",
    "    epochs: int,\n",
    "    device: torch.device,\n",
    ") -> None:\n",
    "    \n",
    "    \"\"\"Train the network.\"\"\"\n",
    "    ### Define loss and optimizer\n",
    "    \n",
    "    criterion = torch.nn.CrossEntropyLoss()\n",
    "    optimizer = torch.optim.SGD(net.parameters(), lr=0.001, momentum=0.9)\n",
    "\n",
    "    print(f\"Training {epochs} epoch(s) w/ {len(trainloader)} batches each\")\n",
    "\n",
    "    ### Train the network\n",
    "    for epoch in range(epochs):  # loop over the dataset multiple times\n",
    "        \n",
    "        running_loss = 0.0\n",
    "        \n",
    "        for i, data in enumerate(trainloader, 0):\n",
    "            images, labels = data[0].to(device), data[1].to(device)\n",
    "\n",
    "            ### zero the parameter gradients\n",
    "            optimizer.zero_grad()\n",
    "\n",
    "            ### forward + backward + optimize\n",
    "            outputs = net(images)\n",
    "            loss = criterion(outputs, labels)\n",
    "            loss.backward()\n",
    "            optimizer.step()\n",
    "\n",
    "            ### print statistics\n",
    "            running_loss += loss.item()\n",
    "            if i % 100 == 99:  # print every 100 mini-batches\n",
    "                print(\"[%d, %5d] loss: %.3f\" % (epoch + 1, i + 1, running_loss / 2000))\n",
    "                running_loss = 0.0"
   ]
  },
  {
   "cell_type": "code",
   "execution_count": null,
   "metadata": {
    "id": "KTSWpnArG8oD",
    "tags": []
   },
   "outputs": [],
   "source": [
    "def test(\n",
    "    net: None,\n",
    "    testloader: torch.utils.data.DataLoader,\n",
    "    device: torch.device,\n",
    ") -> Tuple[float, float]:\n",
    "    \n",
    "    \"\"\"Validate the network on the entire test set.\"\"\"\n",
    "    \n",
    "    criterion = torch.nn.CrossEntropyLoss()\n",
    "    correct = 0\n",
    "    total = 0\n",
    "    loss = 0.0\n",
    "    \n",
    "    with torch.no_grad():\n",
    "        \n",
    "        for data in testloader:\n",
    "            \n",
    "            images, labels = data[0].to(device), data[1].to(device)\n",
    "            \n",
    "            outputs = net(images)\n",
    "            \n",
    "            loss += criterion(outputs, labels).item()\n",
    "            \n",
    "            _, predicted = torch.max(outputs.data, 1)\n",
    "            \n",
    "            total += labels.size(0)\n",
    "            \n",
    "            correct += (predicted == labels).sum().item()\n",
    "    \n",
    "    accuracy = correct / total\n",
    "    \n",
    "    return loss, accuracy"
   ]
  },
  {
   "cell_type": "markdown",
   "metadata": {
    "id": "0hOjyLfoG_wq"
   },
   "source": [
    "#### Centralized Modeling on your own data\n"
   ]
  },
  {
   "cell_type": "code",
   "execution_count": null,
   "metadata": {
    "id": "J4Pic1c4HBIL",
    "tags": []
   },
   "outputs": [],
   "source": [
    "DEVICE = torch.device(\"cuda:0\" if torch.cuda.is_available() else \"cpu\")\n",
    "print(\"Centralized PyTorch training\")\n",
    "\n",
    "c_model = Net()\n",
    "\n",
    "print(\"Start training\")\n",
    "train(net=c_model, trainloader=trainloader, epochs=2, device=DEVICE)\n",
    "\n",
    "print(\"Evaluate model\")\n",
    "loss, accuracy = test(net=c_model, testloader=testloader, device=DEVICE)\n",
    "\n",
    "\n",
    "print(\"Loss: \", loss)\n",
    "print(\"Accuracy: \", accuracy)"
   ]
  },
  {
   "cell_type": "markdown",
   "metadata": {
    "id": "SkHc2iX6HFsx"
   },
   "source": [
    "### Federated Learning"
   ]
  },
  {
   "cell_type": "code",
   "execution_count": null,
   "metadata": {
    "id": "2EbcFAb9HFC8",
    "tags": []
   },
   "outputs": [],
   "source": [
    "# Flower Client\n",
    "class CifarClient(fl.client.NumPyClient):\n",
    "    \"\"\"Flower client implementing CIFAR-10 image classification using\n",
    "    PyTorch.\"\"\"\n",
    "\n",
    "    def __init__(\n",
    "        self,\n",
    "        model: None,\n",
    "        trainloader: torch.utils.data.DataLoader,\n",
    "        testloader: torch.utils.data.DataLoader,\n",
    "    ) -> None:\n",
    "        \n",
    "        self.model = model\n",
    "        self.trainloader = trainloader\n",
    "        self.testloader = testloader\n",
    "\n",
    "    def get_parameters(self, config={}) -> List[np.ndarray]:\n",
    "        ### Return model parameters to server as a list of NumPy ndarrays\n",
    "\n",
    "        return [val.cpu().numpy() for _, val in self.model.state_dict().items()]\n",
    "    \n",
    "\n",
    "    \n",
    "    def set_parameters(self, parameters: List[np.ndarray]) -> None:\n",
    "        ### Set model parameters in client from a list of NumPy ndarrays\n",
    "        \n",
    "        params_dict = zip(self.model.state_dict().keys(), parameters)\n",
    "        state_dict = OrderedDict({k: torch.Tensor(v) for k, v in params_dict})\n",
    "        \n",
    "        self.model.load_state_dict(state_dict, strict=True)\n",
    "        \n",
    "\n",
    "    \n",
    "    def fit(\n",
    "        self, parameters: List[np.ndarray], config: Dict[str, str]\n",
    "    ) -> Tuple[List[np.ndarray], int]:\n",
    "        ### Set model parameters, train model in client and return updated model parameters to server\n",
    "        \n",
    "        self.set_parameters(parameters)\n",
    "        \n",
    "        train(self.model, self.trainloader, epochs=1, device=DEVICE)\n",
    "        \n",
    "        return self.get_parameters(), len(self.trainloader), {}\n",
    "    \n",
    "\n",
    "    \n",
    "    \n",
    "    def evaluate(\n",
    "        self, parameters: List[np.ndarray], config: Dict[str, str]\n",
    "    ) -> Tuple[int, float, float]:\n",
    "        ### Set model parameters, evaluate model on local test dataset in client and return result to server\n",
    "        \n",
    "        self.set_parameters(parameters)\n",
    "        \n",
    "        loss, accuracy = test(self.model, self.testloader, device=DEVICE)\n",
    "        \n",
    "        return float(loss), len(self.testloader), {\"accuracy\": float(accuracy)}"
   ]
  },
  {
   "cell_type": "markdown",
   "metadata": {
    "id": "UY5F1tsrHMwE"
   },
   "source": [
    "#### Scotty, Beam Me Up"
   ]
  },
  {
   "cell_type": "code",
   "execution_count": null,
   "metadata": {
    "id": "77q8FdGnHNn0",
    "tags": []
   },
   "outputs": [],
   "source": [
    "#SERVER_IP = \"100.110.225.209\"\n",
    "SERVER_IP = \"0.0.0.0\"\n",
    "SERVER_PORT = \"8080\"\n",
    "SERVER_ADDRESS = \"{ip}:{port}\".format(ip=SERVER_IP, port=SERVER_PORT)"
   ]
  },
  {
   "cell_type": "code",
   "execution_count": null,
   "metadata": {
    "id": "eXsGw87pHQAs",
    "tags": []
   },
   "outputs": [],
   "source": [
    "print(\"Connected to server at {serverAddress}\".format(serverAddress=SERVER_ADDRESS))\n",
    "\n",
    "# Load model and data\n",
    "f_model = Net().to(DEVICE)\n",
    "\n",
    "flwr_client = CifarClient(f_model, trainloader, testloader)\n",
    "\n",
    "#fl.client.start_numpy_client(SERVER_ADDRESS, client)\n",
    "#fl.client.start_numpy_client(server_address=SERVER_ADDRESS, client=client)\n",
    "fl.client.start_numpy_client(server_address=SERVER_ADDRESS, client=flwr_client)"
   ]
  },
  {
   "cell_type": "code",
   "execution_count": null,
   "metadata": {
    "id": "FOXZcTJFHUL9",
    "tags": []
   },
   "outputs": [],
   "source": [
    "loss, accuracy = test(net=f_model, testloader=testloader, device=DEVICE)\n",
    "print(\"Loss: \", loss)\n",
    "print(\"Accuracy: \", accuracy)"
   ]
  },
  {
   "cell_type": "code",
   "execution_count": null,
   "metadata": {},
   "outputs": [],
   "source": []
  },
  {
   "cell_type": "code",
   "execution_count": null,
   "metadata": {},
   "outputs": [],
   "source": []
  }
 ],
 "metadata": {
  "colab": {
   "collapsed_sections": [],
   "name": "flowr_client.ipynb",
   "provenance": []
  },
  "kernelspec": {
   "display_name": "conda_pytorch_p310",
   "language": "python",
   "name": "conda_pytorch_p310"
  },
  "language_info": {
   "codemirror_mode": {
    "name": "ipython",
    "version": 3
   },
   "file_extension": ".py",
   "mimetype": "text/x-python",
   "name": "python",
   "nbconvert_exporter": "python",
   "pygments_lexer": "ipython3",
   "version": "3.10.13"
  },
  "widgets": {
   "application/vnd.jupyter.widget-state+json": {
    "27640ef03d4b4e62af4d973f34e07f2c": {
     "model_module": "@jupyter-widgets/controls",
     "model_name": "HTMLModel",
     "state": {
      "_dom_classes": [],
      "_model_module": "@jupyter-widgets/controls",
      "_model_module_version": "1.5.0",
      "_model_name": "HTMLModel",
      "_view_count": null,
      "_view_module": "@jupyter-widgets/controls",
      "_view_module_version": "1.5.0",
      "_view_name": "HTMLView",
      "description": "",
      "description_tooltip": null,
      "layout": "IPY_MODEL_7e9d8207371949668dc84369e28f817e",
      "placeholder": "​",
      "style": "IPY_MODEL_8d4c3f0b91c544fdb4af828ba6282aaf",
      "value": " 170499072/? [00:15&lt;00:00, 10956662.87it/s]"
     }
    },
    "3544bbc8d70b475a8cbf8cb4ff9dd375": {
     "model_module": "@jupyter-widgets/base",
     "model_name": "LayoutModel",
     "state": {
      "_model_module": "@jupyter-widgets/base",
      "_model_module_version": "1.2.0",
      "_model_name": "LayoutModel",
      "_view_count": null,
      "_view_module": "@jupyter-widgets/base",
      "_view_module_version": "1.2.0",
      "_view_name": "LayoutView",
      "align_content": null,
      "align_items": null,
      "align_self": null,
      "border": null,
      "bottom": null,
      "display": null,
      "flex": null,
      "flex_flow": null,
      "grid_area": null,
      "grid_auto_columns": null,
      "grid_auto_flow": null,
      "grid_auto_rows": null,
      "grid_column": null,
      "grid_gap": null,
      "grid_row": null,
      "grid_template_areas": null,
      "grid_template_columns": null,
      "grid_template_rows": null,
      "height": null,
      "justify_content": null,
      "justify_items": null,
      "left": null,
      "margin": null,
      "max_height": null,
      "max_width": null,
      "min_height": null,
      "min_width": null,
      "object_fit": null,
      "object_position": null,
      "order": null,
      "overflow": null,
      "overflow_x": null,
      "overflow_y": null,
      "padding": null,
      "right": null,
      "top": null,
      "visibility": null,
      "width": null
     }
    },
    "7e9d8207371949668dc84369e28f817e": {
     "model_module": "@jupyter-widgets/base",
     "model_name": "LayoutModel",
     "state": {
      "_model_module": "@jupyter-widgets/base",
      "_model_module_version": "1.2.0",
      "_model_name": "LayoutModel",
      "_view_count": null,
      "_view_module": "@jupyter-widgets/base",
      "_view_module_version": "1.2.0",
      "_view_name": "LayoutView",
      "align_content": null,
      "align_items": null,
      "align_self": null,
      "border": null,
      "bottom": null,
      "display": null,
      "flex": null,
      "flex_flow": null,
      "grid_area": null,
      "grid_auto_columns": null,
      "grid_auto_flow": null,
      "grid_auto_rows": null,
      "grid_column": null,
      "grid_gap": null,
      "grid_row": null,
      "grid_template_areas": null,
      "grid_template_columns": null,
      "grid_template_rows": null,
      "height": null,
      "justify_content": null,
      "justify_items": null,
      "left": null,
      "margin": null,
      "max_height": null,
      "max_width": null,
      "min_height": null,
      "min_width": null,
      "object_fit": null,
      "object_position": null,
      "order": null,
      "overflow": null,
      "overflow_x": null,
      "overflow_y": null,
      "padding": null,
      "right": null,
      "top": null,
      "visibility": null,
      "width": null
     }
    },
    "8d4c3f0b91c544fdb4af828ba6282aaf": {
     "model_module": "@jupyter-widgets/controls",
     "model_name": "DescriptionStyleModel",
     "state": {
      "_model_module": "@jupyter-widgets/controls",
      "_model_module_version": "1.5.0",
      "_model_name": "DescriptionStyleModel",
      "_view_count": null,
      "_view_module": "@jupyter-widgets/base",
      "_view_module_version": "1.2.0",
      "_view_name": "StyleView",
      "description_width": ""
     }
    },
    "a7b6628b70004759b9be073907ece375": {
     "model_module": "@jupyter-widgets/controls",
     "model_name": "FloatProgressModel",
     "state": {
      "_dom_classes": [],
      "_model_module": "@jupyter-widgets/controls",
      "_model_module_version": "1.5.0",
      "_model_name": "FloatProgressModel",
      "_view_count": null,
      "_view_module": "@jupyter-widgets/controls",
      "_view_module_version": "1.5.0",
      "_view_name": "ProgressView",
      "bar_style": "success",
      "description": "",
      "description_tooltip": null,
      "layout": "IPY_MODEL_3544bbc8d70b475a8cbf8cb4ff9dd375",
      "max": 170498071,
      "min": 0,
      "orientation": "horizontal",
      "style": "IPY_MODEL_cb08a760af394dd8b22ee63c62647a31",
      "value": 170498071
     }
    },
    "ab09d8331075473d885d8f88a1bdc665": {
     "model_module": "@jupyter-widgets/controls",
     "model_name": "HBoxModel",
     "state": {
      "_dom_classes": [],
      "_model_module": "@jupyter-widgets/controls",
      "_model_module_version": "1.5.0",
      "_model_name": "HBoxModel",
      "_view_count": null,
      "_view_module": "@jupyter-widgets/controls",
      "_view_module_version": "1.5.0",
      "_view_name": "HBoxView",
      "box_style": "",
      "children": [
       "IPY_MODEL_a7b6628b70004759b9be073907ece375",
       "IPY_MODEL_27640ef03d4b4e62af4d973f34e07f2c"
      ],
      "layout": "IPY_MODEL_fbc53b22bda640cbb6aafc2ec695dad3"
     }
    },
    "cb08a760af394dd8b22ee63c62647a31": {
     "model_module": "@jupyter-widgets/controls",
     "model_name": "ProgressStyleModel",
     "state": {
      "_model_module": "@jupyter-widgets/controls",
      "_model_module_version": "1.5.0",
      "_model_name": "ProgressStyleModel",
      "_view_count": null,
      "_view_module": "@jupyter-widgets/base",
      "_view_module_version": "1.2.0",
      "_view_name": "StyleView",
      "bar_color": null,
      "description_width": "initial"
     }
    },
    "fbc53b22bda640cbb6aafc2ec695dad3": {
     "model_module": "@jupyter-widgets/base",
     "model_name": "LayoutModel",
     "state": {
      "_model_module": "@jupyter-widgets/base",
      "_model_module_version": "1.2.0",
      "_model_name": "LayoutModel",
      "_view_count": null,
      "_view_module": "@jupyter-widgets/base",
      "_view_module_version": "1.2.0",
      "_view_name": "LayoutView",
      "align_content": null,
      "align_items": null,
      "align_self": null,
      "border": null,
      "bottom": null,
      "display": null,
      "flex": null,
      "flex_flow": null,
      "grid_area": null,
      "grid_auto_columns": null,
      "grid_auto_flow": null,
      "grid_auto_rows": null,
      "grid_column": null,
      "grid_gap": null,
      "grid_row": null,
      "grid_template_areas": null,
      "grid_template_columns": null,
      "grid_template_rows": null,
      "height": null,
      "justify_content": null,
      "justify_items": null,
      "left": null,
      "margin": null,
      "max_height": null,
      "max_width": null,
      "min_height": null,
      "min_width": null,
      "object_fit": null,
      "object_position": null,
      "order": null,
      "overflow": null,
      "overflow_x": null,
      "overflow_y": null,
      "padding": null,
      "right": null,
      "top": null,
      "visibility": null,
      "width": null
     }
    }
   }
  }
 },
 "nbformat": 4,
 "nbformat_minor": 4
}
