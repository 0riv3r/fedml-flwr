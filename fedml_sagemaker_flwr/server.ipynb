{
 "cells": [
  {
   "cell_type": "code",
   "execution_count": 1,
   "id": "93dcd555-9c9b-40d5-bad5-8bbb85a07684",
   "metadata": {
    "tags": []
   },
   "outputs": [],
   "source": [
    "import flwr as fl"
   ]
  },
  {
   "cell_type": "code",
   "execution_count": 2,
   "id": "0ad4e42a-cf84-40bd-ad0b-d578bf585a57",
   "metadata": {
    "tags": []
   },
   "outputs": [
    {
     "name": "stderr",
     "output_type": "stream",
     "text": [
      "INFO flwr 2023-11-30 14:13:45,019 | app.py:163 | Starting Flower server, config: ServerConfig(num_rounds=3, round_timeout=None)\n",
      "INFO flwr 2023-11-30 14:13:45,038 | app.py:176 | Flower ECE: gRPC server running (3 rounds), SSL is disabled\n",
      "INFO flwr 2023-11-30 14:13:45,041 | server.py:89 | Initializing global parameters\n",
      "INFO flwr 2023-11-30 14:13:45,042 | server.py:276 | Requesting initial parameters from one random client\n",
      "INFO flwr 2023-11-30 14:13:50,272 | server.py:280 | Received initial parameters from one random client\n",
      "INFO flwr 2023-11-30 14:13:50,274 | server.py:91 | Evaluating initial parameters\n",
      "INFO flwr 2023-11-30 14:13:50,275 | server.py:104 | FL starting\n",
      "DEBUG flwr 2023-11-30 14:13:51,200 | server.py:222 | fit_round 1: strategy sampled 2 clients (out of 2)\n",
      "DEBUG flwr 2023-11-30 14:14:28,647 | server.py:236 | fit_round 1 received 2 results and 0 failures\n",
      "WARNING flwr 2023-11-30 14:14:28,655 | fedavg.py:242 | No fit_metrics_aggregation_fn provided\n",
      "DEBUG flwr 2023-11-30 14:14:28,656 | server.py:173 | evaluate_round 1: strategy sampled 2 clients (out of 2)\n",
      "DEBUG flwr 2023-11-30 14:14:43,448 | server.py:187 | evaluate_round 1 received 2 results and 0 failures\n",
      "WARNING flwr 2023-11-30 14:14:43,449 | fedavg.py:273 | No evaluate_metrics_aggregation_fn provided\n",
      "DEBUG flwr 2023-11-30 14:14:43,449 | server.py:222 | fit_round 2: strategy sampled 2 clients (out of 2)\n",
      "DEBUG flwr 2023-11-30 14:15:20,772 | server.py:236 | fit_round 2 received 2 results and 0 failures\n",
      "DEBUG flwr 2023-11-30 14:15:20,776 | server.py:173 | evaluate_round 2: strategy sampled 2 clients (out of 2)\n",
      "DEBUG flwr 2023-11-30 14:15:35,716 | server.py:187 | evaluate_round 2 received 2 results and 0 failures\n",
      "DEBUG flwr 2023-11-30 14:15:35,717 | server.py:222 | fit_round 3: strategy sampled 2 clients (out of 2)\n",
      "DEBUG flwr 2023-11-30 14:16:12,870 | server.py:236 | fit_round 3 received 2 results and 0 failures\n",
      "DEBUG flwr 2023-11-30 14:16:12,875 | server.py:173 | evaluate_round 3: strategy sampled 2 clients (out of 2)\n",
      "DEBUG flwr 2023-11-30 14:16:27,600 | server.py:187 | evaluate_round 3 received 2 results and 0 failures\n",
      "INFO flwr 2023-11-30 14:16:27,601 | server.py:153 | FL finished in 157.3248197770008\n",
      "INFO flwr 2023-11-30 14:16:27,602 | app.py:226 | app_fit: losses_distributed [(1, 2.1627309322357178), (2, 1.7242107391357422), (3, 1.5471781492233276)]\n",
      "INFO flwr 2023-11-30 14:16:27,603 | app.py:227 | app_fit: metrics_distributed_fit {}\n",
      "INFO flwr 2023-11-30 14:16:27,604 | app.py:228 | app_fit: metrics_distributed {}\n",
      "INFO flwr 2023-11-30 14:16:27,605 | app.py:229 | app_fit: losses_centralized []\n",
      "INFO flwr 2023-11-30 14:16:27,605 | app.py:230 | app_fit: metrics_centralized {}\n"
     ]
    },
    {
     "data": {
      "text/plain": [
       "History (loss, distributed):\n",
       "\tround 1: 2.1627309322357178\n",
       "\tround 2: 1.7242107391357422\n",
       "\tround 3: 1.5471781492233276"
      ]
     },
     "execution_count": 2,
     "metadata": {},
     "output_type": "execute_result"
    }
   ],
   "source": [
    "fl.server.start_server(\n",
    "    server_address=\"0.0.0.0:8080\",\n",
    "    config=fl.server.ServerConfig(num_rounds=3),\n",
    "    strategy=fl.server.strategy.FedAvg()\n",
    ")"
   ]
  },
  {
   "cell_type": "code",
   "execution_count": null,
   "id": "a1c7eeb0-c8d1-4091-a4cf-310370ce908b",
   "metadata": {},
   "outputs": [],
   "source": []
  }
 ],
 "metadata": {
  "kernelspec": {
   "display_name": "conda_pytorch_p310",
   "language": "python",
   "name": "conda_pytorch_p310"
  },
  "language_info": {
   "codemirror_mode": {
    "name": "ipython",
    "version": 3
   },
   "file_extension": ".py",
   "mimetype": "text/x-python",
   "name": "python",
   "nbconvert_exporter": "python",
   "pygments_lexer": "ipython3",
   "version": "3.10.13"
  }
 },
 "nbformat": 4,
 "nbformat_minor": 5
}
